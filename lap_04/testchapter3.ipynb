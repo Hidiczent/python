{
 "cells": [
  {
   "cell_type": "markdown",
   "id": "3ae7fe44",
   "metadata": {},
   "source": [
    "# ທ.ສູດທະວີ ແສງດາວົງ 07/07/2023"
   ]
  },
  {
   "cell_type": "markdown",
   "id": "cd9f2bf4",
   "metadata": {},
   "source": [
    "Q17-01"
   ]
  },
  {
   "cell_type": "code",
   "execution_count": 7,
   "id": "ce8ccf98",
   "metadata": {},
   "outputs": [
    {
     "name": "stdout",
     "output_type": "stream",
     "text": [
      "Enter the X1: 0\n",
      "Enter the y1: 0\n",
      "Enter the x2: 3\n",
      "Enter the y2: 4\n",
      "The distance between two points:  5.0\n"
     ]
    }
   ],
   "source": [
    "import math\n",
    "x1=input(\"Enter the X1: \")\n",
    "y1=input(\"Enter the y1: \")\n",
    "x2=input(\"Enter the x2: \")\n",
    "y2=input(\"Enter the y2: \")\n",
    "def distance(x1, y1, x2, y2):\n",
    "      return math.sqrt(math.pow(x1-x2,2)+math.pow(y1-y2,2))\n",
    "distance = distance(float(x1), float(y1), float(x2), float(y2))\n",
    "print('The distance between two points: ',distance)\n"
   ]
  },
  {
   "cell_type": "markdown",
   "id": "373ff136",
   "metadata": {},
   "source": [
    "Q18-1"
   ]
  },
  {
   "cell_type": "code",
   "execution_count": 12,
   "id": "6032d46a",
   "metadata": {},
   "outputs": [
    {
     "name": "stdout",
     "output_type": "stream",
     "text": [
      "Enter a string: level\n",
      "This is palindrome.\n"
     ]
    }
   ],
   "source": [
    "def is_palindrome(word):\n",
    "    \n",
    "    if word[0] != word[-1]:\n",
    "        return f\"This is not palindrome.\"\n",
    "    else:\n",
    "        return f\"This is palindrome.\"\n",
    "    \n",
    "word = input(\"Enter a string: \")\n",
    "print(is_palindrome(word))"
   ]
  },
  {
   "cell_type": "markdown",
   "id": "dd32158d",
   "metadata": {},
   "source": [
    "Q19-1"
   ]
  },
  {
   "cell_type": "code",
   "execution_count": 10,
   "id": "11f4b0be",
   "metadata": {},
   "outputs": [
    {
     "name": "stdout",
     "output_type": "stream",
     "text": [
      " twice the input value:  [20, 40, 60]\n",
      "Three times the input value:  [30, 60, 90]\n"
     ]
    }
   ],
   "source": [
    "n_list=[10,20,30]\n",
    "lsit1= list(map(lambda x:x*2,n_list))\n",
    "lsit2= list(map(lambda x:x*3,n_list))\n",
    "print(' twice the input value: ',lsit1)\n",
    "print('Three times the input value: ',lsit2)"
   ]
  },
  {
   "cell_type": "markdown",
   "id": "963f53cc",
   "metadata": {},
   "source": [
    "Q20-1"
   ]
  },
  {
   "cell_type": "code",
   "execution_count": null,
   "id": "92753eee",
   "metadata": {},
   "outputs": [],
   "source": []
  },
  {
   "cell_type": "markdown",
   "id": "9e845ebc",
   "metadata": {},
   "source": [
    "Q21-1"
   ]
  },
  {
   "cell_type": "code",
   "execution_count": 11,
   "id": "1709ee30",
   "metadata": {},
   "outputs": [
    {
     "name": "stdout",
     "output_type": "stream",
     "text": [
      "V1 * V2 = (300, 800)\n",
      "V1 / V2 = (3.0, 2.0)\n"
     ]
    }
   ],
   "source": [
    "class Vector2D:\n",
    "    def __init__(self, x, y):\n",
    "        self.x = x\n",
    "        self.y = y\n",
    "    def __mul__(self, other):\n",
    "        x = self.x * other.x\n",
    "        y = self.y * other.y\n",
    "        return Vector2D(x, y)\n",
    "    def __truediv__(self, other):\n",
    "        x = self.x / other.x\n",
    "        y = self.y / other.y\n",
    "        return Vector2D(x, y)\n",
    "    def __repr__(self):\n",
    "        return f\"({self.x}, {self.y})\"\n",
    "v1 = Vector2D(30, 40)\n",
    "v2 = Vector2D(10, 20)\n",
    "result_mul = v1 * v2\n",
    "print(\"V1 * V2 =\", result_mul)\n",
    "result_div = v1 / v2\n",
    "print(\"V1 / V2 =\", result_div)"
   ]
  },
  {
   "cell_type": "code",
   "execution_count": null,
   "id": "d1888e59",
   "metadata": {},
   "outputs": [],
   "source": []
  }
 ],
 "metadata": {
  "kernelspec": {
   "display_name": "Python 3 (ipykernel)",
   "language": "python",
   "name": "python3"
  },
  "language_info": {
   "codemirror_mode": {
    "name": "ipython",
    "version": 3
   },
   "file_extension": ".py",
   "mimetype": "text/x-python",
   "name": "python",
   "nbconvert_exporter": "python",
   "pygments_lexer": "ipython3",
   "version": "3.8.16"
  }
 },
 "nbformat": 4,
 "nbformat_minor": 5
}
