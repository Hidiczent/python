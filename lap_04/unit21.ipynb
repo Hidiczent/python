{
 "cells": [
  {
   "cell_type": "markdown",
   "id": "ce674a3a",
   "metadata": {},
   "source": [
    "# Q1"
   ]
  },
  {
   "cell_type": "code",
   "execution_count": 4,
   "id": "44e6530d",
   "metadata": {},
   "outputs": [
    {
     "name": "stdout",
     "output_type": "stream",
     "text": [
      "woof woof\n"
     ]
    }
   ],
   "source": [
    "\n",
    "class Dog():\n",
    "    def brak(self):\n",
    "        print('woof woof')\n",
    "my_dog=Dog()\n",
    "my_dog.brak()"
   ]
  },
  {
   "cell_type": "markdown",
   "id": "8bf21664",
   "metadata": {},
   "source": [
    "# Q2"
   ]
  },
  {
   "cell_type": "code",
   "execution_count": 5,
   "id": "b398a354",
   "metadata": {},
   "outputs": [
    {
     "name": "stdout",
     "output_type": "stream",
     "text": [
      "Bigngo:  woof woof\n"
     ]
    }
   ],
   "source": [
    "class Dog():\n",
    "    def __init__(self,name):\n",
    "        self.name = name\n",
    "    def brak(self):\n",
    "        print(self.name,'woof woof')\n",
    "my_dog=Dog('Bigngo: ')\n",
    "my_dog.brak()"
   ]
  },
  {
   "cell_type": "markdown",
   "id": "884e5d42",
   "metadata": {},
   "source": [
    "# pair"
   ]
  },
  {
   "cell_type": "code",
   "execution_count": 10,
   "id": "70d07dcf",
   "metadata": {},
   "outputs": [
    {
     "name": "stdout",
     "output_type": "stream",
     "text": [
      "Enter the student's name: jimmy\n",
      "Enter the student's ID: 123\n",
      "Enter the student's English quiz score: 95\n",
      "Enter the student's mathematics quiz score: 95\n",
      "Enter the student's science quiz score: 95\n",
      "Name: jimmy, ID: 123\n",
      "English quiz score: 95, Mathematics quiz score: 95\n",
      "Science quiz score: 95, Total: 285, Average: 95.0\n"
     ]
    }
   ],
   "source": [
    "\n",
    "class Student:\n",
    "    def __init__(self, name, student_id, english, math, science):\n",
    "        self.name = name\n",
    "        self.student_id = student_id\n",
    "        self.english = english\n",
    "        self.math = math\n",
    "        self.science = science\n",
    "\n",
    "    def get_name(self):\n",
    "        return self\n",
    "\n",
    "    def get_student_id(self):\n",
    "        return self.student_id\n",
    "\n",
    "    def get_english(self):\n",
    "        return self.english\n",
    "\n",
    "    def get_math(self):\n",
    "        return self.math\n",
    "\n",
    "    def get_science(self):\n",
    "        return self.science\n",
    "\n",
    "    def get_total(self):\n",
    "        return self.english + self.math + self.science\n",
    "\n",
    "    def get_average(self):\n",
    "        return round(self.get_total() / 3, 1)\n",
    "\n",
    "    def __str__(self):\n",
    "        return \"Name: {}, ID: {}\\nEnglish quiz score: {}, Mathematics quiz score: {}\\nScience quiz score: {}, Total: {}, Average: {}\".format(self.name, self.student_id, self.english, self.math, self.science, self.get_total(), self.get_average())\n",
    "\n",
    "\n",
    "name = input(\"Enter the student's name: \")\n",
    "id = input(\"Enter the student's ID: \")\n",
    "english = int(input(\"Enter the student's English quiz score: \"))\n",
    "math = int(input(\"Enter the student's mathematics quiz score: \"))\n",
    "science = int(input(\"Enter the student's science quiz score: \"))\n",
    "\n",
    "s = Student(name, id, english, math, science)\n",
    "print(s)"
   ]
  },
  {
   "cell_type": "code",
   "execution_count": null,
   "id": "0c247103",
   "metadata": {},
   "outputs": [],
   "source": []
  }
 ],
 "metadata": {
  "kernelspec": {
   "display_name": "Python 3 (ipykernel)",
   "language": "python",
   "name": "python3"
  },
  "language_info": {
   "codemirror_mode": {
    "name": "ipython",
    "version": 3
   },
   "file_extension": ".py",
   "mimetype": "text/x-python",
   "name": "python",
   "nbconvert_exporter": "python",
   "pygments_lexer": "ipython3",
   "version": "3.8.16"
  }
 },
 "nbformat": 4,
 "nbformat_minor": 5
}
