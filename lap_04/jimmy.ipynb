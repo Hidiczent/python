{
 "cells": [
  {
   "cell_type": "code",
   "execution_count": 6,
   "id": "dba72cf2",
   "metadata": {},
   "outputs": [
    {
     "name": "stdout",
     "output_type": "stream",
     "text": [
      "3+9= 12\n"
     ]
    }
   ],
   "source": [
    "print (\"3+9=\",3+9)"
   ]
  },
  {
   "cell_type": "code",
   "execution_count": 10,
   "id": "286a901c",
   "metadata": {},
   "outputs": [
    {
     "ename": "SyntaxError",
     "evalue": "EOL while scanning string literal (1972476161.py, line 1)",
     "output_type": "error",
     "traceback": [
      "\u001b[1;36m  Cell \u001b[1;32mIn[10], line 1\u001b[1;36m\u001b[0m\n\u001b[1;33m    print (\"hello python \", end = '\\n)\u001b[0m\n\u001b[1;37m                                      ^\u001b[0m\n\u001b[1;31mSyntaxError\u001b[0m\u001b[1;31m:\u001b[0m EOL while scanning string literal\n"
     ]
    }
   ],
   "source": [
    "print (\"hello python \", end = ')\n",
    "print ( \"world\")"
   ]
  },
  {
   "cell_type": "code",
   "execution_count": 13,
   "id": "54b9cba4",
   "metadata": {},
   "outputs": [
    {
     "name": "stdout",
     "output_type": "stream",
     "text": [
      "     *    \n",
      "    ***\n",
      "   *****\n",
      " *********\n",
      "   *****\n",
      "    ***\n",
      "     *\n"
     ]
    }
   ],
   "source": [
    "print ('     *    ')\n",
    "print ('    ***')\n",
    "print ('   *****')\n",
    "print (' *********')\n",
    "print ('   *****')\n",
    "print ('    ***')\n",
    "print ('     *')"
   ]
  },
  {
   "cell_type": "code",
   "execution_count": 1,
   "id": "43f2fde6",
   "metadata": {},
   "outputs": [
    {
     "name": "stdout",
     "output_type": "stream",
     "text": [
      "hello I will introduce my self.\n",
      "name : southavy snegdavong\n",
      "Age:18\n",
      "Job: student\n",
      "Address : vientiane,Lao\n",
      "place of Brith: chanthabuly,vientiane,lao\n"
     ]
    }
   ],
   "source": [
    "print (\"hello I will introduce my self.\")\n",
    "print (\"name : southavy snegdavong\")\n",
    "print(\"Age:18\")\n",
    "print(\"Job: student\")\n",
    "print(\"Address : vientiane,Lao\")\n",
    "print(\"place of Brith: chanthabuly,vientiane,lao\")"
   ]
  },
  {
   "cell_type": "code",
   "execution_count": 2,
   "id": "40d12297",
   "metadata": {},
   "outputs": [
    {
     "data": {
      "text/plain": [
       "5.0"
      ]
     },
     "execution_count": 2,
     "metadata": {},
     "output_type": "execute_result"
    }
   ],
   "source": [
    " int('10')/2"
   ]
  },
  {
   "cell_type": "code",
   "execution_count": 1,
   "id": "9d01d64d",
   "metadata": {},
   "outputs": [
    {
     "name": "stdout",
     "output_type": "stream",
     "text": [
      "reduis of circle  4.0\n",
      "Area of circle 50.24\n",
      "circu,ference of circle 25.12\n"
     ]
    }
   ],
   "source": [
    "reduis=4.0\n",
    "print('reduis of circle ',reduis)\n",
    "print('Area of circle',3.14 * reduis * reduis)\n",
    "print('circu,ference of circle',2.0 * 3.14 * reduis)"
   ]
  },
  {
   "cell_type": "code",
   "execution_count": 2,
   "id": "beda78ce",
   "metadata": {},
   "outputs": [
    {
     "name": "stdout",
     "output_type": "stream",
     "text": [
      "Rectangle Area =  50\n"
     ]
    }
   ],
   "source": [
    "width= 10\n",
    "height =5\n",
    "rectangle_area = width * height\n",
    "print('Rectangle Area = ',rectangle_area)\n",
    "\n"
   ]
  },
  {
   "cell_type": "code",
   "execution_count": 3,
   "id": "aa2088b8",
   "metadata": {},
   "outputs": [
    {
     "name": "stdout",
     "output_type": "stream",
     "text": [
      "['False', 'None', 'True', 'and', 'as', 'assert', 'async', 'await', 'break', 'class', 'continue', 'def', 'del', 'elif', 'else', 'except', 'finally', 'for', 'from', 'global', 'if', 'import', 'in', 'is', 'lambda', 'nonlocal', 'not', 'or', 'pass', 'raise', 'return', 'try', 'while', 'with', 'yield']\n"
     ]
    }
   ],
   "source": [
    "import keyword\n",
    "print(keyword.kwlist)"
   ]
  },
  {
   "cell_type": "code",
   "execution_count": 8,
   "id": "229abd5c",
   "metadata": {},
   "outputs": [
    {
     "name": "stdout",
     "output_type": "stream",
     "text": [
      "300\n"
     ]
    }
   ],
   "source": [
    "x,y=100,200\n",
    "result = x+y\n",
    "print(result)"
   ]
  },
  {
   "cell_type": "code",
   "execution_count": 11,
   "id": "57074092",
   "metadata": {},
   "outputs": [
    {
     "name": "stdout",
     "output_type": "stream",
     "text": [
      "300\n",
      "200\n",
      "4000\n",
      "2000.0\n"
     ]
    }
   ],
   "source": [
    "num =200\n",
    "num +=100\n",
    "print ( num)\n",
    "num -=100\n",
    "print(num)\n",
    "num*=20\n",
    "print(num)\n",
    "num/=2\n",
    "print(num)"
   ]
  },
  {
   "cell_type": "code",
   "execution_count": 14,
   "id": "436409ff",
   "metadata": {
    "scrolled": true
   },
   "outputs": [
    {
     "name": "stdout",
     "output_type": "stream",
     "text": [
      "Ener your name: jimmy\n",
      "Enter weght : 88\n",
      "Enter hight:1.79\n",
      "Your BMI : 27.46481071127618\n"
     ]
    }
   ],
   "source": [
    "Name = input('Ener your name: ')\n",
    "wegiht =float (input('Enter weght : '))\n",
    "hight = float (input('Enter hight:'))\n",
    "\n",
    "BMI = (wegiht / (hight**2) )\n",
    "print('Your BMI :',BMI)"
   ]
  },
  {
   "cell_type": "code",
   "execution_count": 15,
   "id": "17b9475c",
   "metadata": {},
   "outputs": [
    {
     "name": "stdout",
     "output_type": "stream",
     "text": [
      "Money paid:10000\n",
      "price of item:400\n",
      "Amout of chang :  9600.0\n",
      "Price of 500 won coins: 19.0\n",
      "Price of 100 won coins: 1.0\n"
     ]
    }
   ],
   "source": [
    "money = float (input('Money paid:'))\n",
    "price = int(input(\"price of item:\"))\n",
    "\n",
    "change =money-price\n",
    "print('Amout of chang : ',change)\n",
    "\n",
    "coin500s = change // 500\n",
    "change = change  % 500 \n",
    "\n",
    "coin100s = change // 100\n",
    "\n",
    "print('Price of 500 won coins:',coin500s)\n",
    "print('Price of 100 won coins:',coin100s)"
   ]
  },
  {
   "cell_type": "code",
   "execution_count": 16,
   "id": "1e69c728",
   "metadata": {},
   "outputs": [
    {
     "name": "stdout",
     "output_type": "stream",
     "text": [
      "A:5\n",
      "B:1\n",
      "Area :  13.0\n"
     ]
    }
   ],
   "source": [
    "a=int(input('A:'))\n",
    "b=int(input('B:'))\n",
    "c= (a**2 + b**2)**1/2\n",
    "print('Area : ',c)"
   ]
  },
  {
   "cell_type": "code",
   "execution_count": null,
   "id": "338db465",
   "metadata": {},
   "outputs": [],
   "source": []
  }
 ],
 "metadata": {
  "kernelspec": {
   "display_name": "Python 3 (ipykernel)",
   "language": "python",
   "name": "python3"
  },
  "language_info": {
   "codemirror_mode": {
    "name": "ipython",
    "version": 3
   },
   "file_extension": ".py",
   "mimetype": "text/x-python",
   "name": "python",
   "nbconvert_exporter": "python",
   "pygments_lexer": "ipython3",
   "version": "3.8.16"
  }
 },
 "nbformat": 4,
 "nbformat_minor": 5
}
