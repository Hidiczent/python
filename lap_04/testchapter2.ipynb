{
 "cells": [
  {
   "cell_type": "code",
   "execution_count": 4,
   "id": "0f1eccef",
   "metadata": {},
   "outputs": [
    {
     "name": "stdout",
     "output_type": "stream",
     "text": [
      "1 like pancake\n",
      "1 like kiwi juice\n",
      "1 like esprsso\n",
      "I love pancake\n",
      "I love kiwi juice\n",
      "I love esprsso\n"
     ]
    }
   ],
   "source": [
    "# ທ.ສູດທະວີ ແສງດາວົງ ວັນທີ 28/06/2023\n",
    "#Q10-01\n",
    "l1=['1 like','I love']\n",
    "l2=['pancake','kiwi juice','esprsso']\n",
    "for i in l1:\n",
    "    for j in l2:\n",
    "        print(i,j)"
   ]
  },
  {
   "cell_type": "code",
   "execution_count": 5,
   "id": "a6dc5a5d",
   "metadata": {},
   "outputs": [
    {
     "name": "stdout",
     "output_type": "stream",
     "text": [
      "{'Name': 'David Doe', 'Age': '26', 'weight': '78', 'Job': 'Data Sicentist', 'father': 'jhon Doe'}\n"
     ]
    }
   ],
   "source": [
    "#Q11-01\n",
    "person={'Name':'David Doe','Age':'26','weight':'78','Job':'Data Sicentist'}\n",
    "person2={'father':'jhon Doe'}\n",
    "person.update(person2)\n",
    "print(person)\n",
    "\n"
   ]
  },
  {
   "cell_type": "code",
   "execution_count": null,
   "id": "aab811e6",
   "metadata": {},
   "outputs": [],
   "source": [
    "#12-02\n"
   ]
  },
  {
   "cell_type": "code",
   "execution_count": 3,
   "id": "4c1194a2",
   "metadata": {},
   "outputs": [],
   "source": [
    "#Q13-01\n",
    "Arr1=[[1,2],[3,4],[5,6]]\n",
    "Arr2=[]\n",
    "for i in Arr1:\n",
    "    Arr2.extend(i)\n",
    "print(Arr2)\n"
   ]
  },
  {
   "cell_type": "code",
   "execution_count": 9,
   "id": "f883fcaf",
   "metadata": {},
   "outputs": [
    {
     "name": "stdout",
     "output_type": "stream",
     "text": [
      "Average:  89.25\n"
     ]
    }
   ],
   "source": [
    "#Q14-01\n",
    "maria = {'Korean':94,'Englisht':91,'Mathematics':89,'Scicene':83}\n",
    "const =len(maria)\n",
    "scr = maria.values()\n",
    "score =sum(scr)\n",
    "arg = score/const\n",
    "print(\"Average: \",arg)"
   ]
  },
  {
   "cell_type": "code",
   "execution_count": 10,
   "id": "35dd6c21",
   "metadata": {},
   "outputs": [
    {
     "name": "stdout",
     "output_type": "stream",
     "text": [
      "False\n"
     ]
    }
   ],
   "source": [
    "#Q15-01\n",
    "import copy\n",
    "school={'kim':{'age':16,'hie':170,\"grade\" : 3},\n",
    "        'lee':{'age':15,'hei':168,\"grade\":2},\n",
    "        'Choi':{'age':14,'hie':173,\"grade\" :1},\n",
    "        }\n",
    "school2=copy.deepcopy(school)\n",
    "print(school is school2)"
   ]
  },
  {
   "cell_type": "code",
   "execution_count": 13,
   "id": "5b3b55ea",
   "metadata": {},
   "outputs": [
    {
     "name": "stdout",
     "output_type": "stream",
     "text": [
      "91.25\n"
     ]
    }
   ],
   "source": [
    "#Q16-01\n",
    "score=(('dongkyu Prak',88,95,90),('youngMin Kang',85,90,95),('DongMinPrak',70,90,80),('seungJoo Hong',90,90,95))\n",
    "name,s1,s2,s3=zip(*score) \n",
    "s_um=sum(s2)\n",
    "arg=s_um/4\n",
    "print(arg)"
   ]
  },
  {
   "cell_type": "code",
   "execution_count": null,
   "id": "84b76fc1",
   "metadata": {},
   "outputs": [],
   "source": []
  }
 ],
 "metadata": {
  "kernelspec": {
   "display_name": "Python 3 (ipykernel)",
   "language": "python",
   "name": "python3"
  },
  "language_info": {
   "codemirror_mode": {
    "name": "ipython",
    "version": 3
   },
   "file_extension": ".py",
   "mimetype": "text/x-python",
   "name": "python",
   "nbconvert_exporter": "python",
   "pygments_lexer": "ipython3",
   "version": "3.8.16"
  }
 },
 "nbformat": 4,
 "nbformat_minor": 5
}
