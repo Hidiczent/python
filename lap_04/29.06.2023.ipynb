{
 "cells": [
  {
   "cell_type": "markdown",
   "id": "9bef6f5c",
   "metadata": {},
   "source": [
    "Q1"
   ]
  },
  {
   "cell_type": "code",
   "execution_count": 3,
   "id": "d8bf4495",
   "metadata": {},
   "outputs": [
    {
     "name": "stdout",
     "output_type": "stream",
     "text": [
      "[2, 4, 6, 8, 10]\n"
     ]
    }
   ],
   "source": [
    "n_list=[1,2,3,4,5,6,7,8,9,10]\n",
    "even_list=[]\n",
    "for i in filter(lambda x :x%2==0,n_list):\n",
    "    even_list.append(i)\n",
    "print(even_list)\n"
   ]
  },
  {
   "cell_type": "markdown",
   "id": "2d6ce997",
   "metadata": {},
   "source": [
    "Q2"
   ]
  },
  {
   "cell_type": "code",
   "execution_count": 2,
   "id": "2ba5767d",
   "metadata": {},
   "outputs": [
    {
     "name": "stdout",
     "output_type": "stream",
     "text": [
      "[2, 4, 6, 8, 10]\n"
     ]
    }
   ],
   "source": [
    "n_list=[1,2,3,4,5,6,7,8,9,10]\n",
    "even_list=list(filter(lambda x:x%2==0,n_list))\n",
    "print(even_list)"
   ]
  },
  {
   "cell_type": "markdown",
   "id": "bd2d2207",
   "metadata": {},
   "source": [
    "Q3"
   ]
  },
  {
   "cell_type": "code",
   "execution_count": 4,
   "id": "e8ddc4bc",
   "metadata": {},
   "outputs": [
    {
     "name": "stdout",
     "output_type": "stream",
     "text": [
      "['A', 'B', 'C', 'D']\n"
     ]
    }
   ],
   "source": [
    "def to_upper(x):\n",
    "    return x.upper()\n",
    "a_list=['a','b','c','d']\n",
    "square=list(map(to_upper,a_list))\n",
    "print(square)"
   ]
  },
  {
   "cell_type": "markdown",
   "id": "c145761b",
   "metadata": {},
   "source": [
    "Q4"
   ]
  },
  {
   "cell_type": "code",
   "execution_count": 5,
   "id": "2e0bc5e1",
   "metadata": {},
   "outputs": [
    {
     "name": "stdout",
     "output_type": "stream",
     "text": [
      "5050\n"
     ]
    }
   ],
   "source": [
    "from functools import reduce\n",
    "num=range(1,101)\n",
    "sum_1=reduce(lambda x,y:x+y,num)\n",
    "print(sum_1)"
   ]
  },
  {
   "cell_type": "markdown",
   "id": "5d5dd0f3",
   "metadata": {},
   "source": [
    "Pair"
   ]
  },
  {
   "cell_type": "code",
   "execution_count": 6,
   "id": "5fc06b35",
   "metadata": {},
   "outputs": [
    {
     "name": "stdout",
     "output_type": "stream",
     "text": [
      "Number of students' scores: 6\n",
      "Number of students with valid scores for all subjects: 4\n",
      "Scores of students with only valid scores: [(100, 90, 95), (90, 80, 70), (100, 75, 20), (30, 50, 90)]\n"
     ]
    }
   ],
   "source": [
    "scores=[100, 90, 95, 90, 80, 70, 0, 80, 90, 90, 0, 90, 100, 75, 20, 30, 50, 90]\n",
    "num_students = len(scores) // 3\n",
    "valid_scores = list(filter(lambda x: 0 not in x, zip(scores[::3], scores[1::3], scores[2::3])))\n",
    "num_valid = len(valid_scores)\n",
    "valid_only = [x for x in zip(scores[::3], scores[1::3], scores[2::3]) if 0 not in x]\n",
    "print(\"Number of students' scores:\", num_students)\n",
    "print(\"Number of students with valid scores for all subjects:\", num_valid)\n",
    "print(\"Scores of students with only valid scores:\", valid_only)"
   ]
  },
  {
   "cell_type": "code",
   "execution_count": null,
   "id": "e0b52d10",
   "metadata": {},
   "outputs": [],
   "source": []
  }
 ],
 "metadata": {
  "kernelspec": {
   "display_name": "Python 3 (ipykernel)",
   "language": "python",
   "name": "python3"
  },
  "language_info": {
   "codemirror_mode": {
    "name": "ipython",
    "version": 3
   },
   "file_extension": ".py",
   "mimetype": "text/x-python",
   "name": "python",
   "nbconvert_exporter": "python",
   "pygments_lexer": "ipython3",
   "version": "3.8.16"
  }
 },
 "nbformat": 4,
 "nbformat_minor": 5
}
