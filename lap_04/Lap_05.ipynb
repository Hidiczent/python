{
 "cells": [
  {
   "cell_type": "markdown",
   "id": "2b69d777",
   "metadata": {},
   "source": [
    "1 string operator\n"
   ]
  },
  {
   "cell_type": "code",
   "execution_count": 8,
   "id": "97952b34",
   "metadata": {},
   "outputs": [
    {
     "name": "stdout",
     "output_type": "stream",
     "text": [
      "Enter the radius:5\n",
      "radius of the circle 5.0\n",
      "Area of the circle  78.5\n",
      " circumference of the circle 31.400000000000002\n"
     ]
    }
   ],
   "source": [
    "PI=3.14\n",
    "radius=float(input('Enter the radius:'))\n",
    "circum = 2.0 * PI * radius\n",
    "# area = 2.0 * PI * radius\n",
    "print('radius of the circle:',radius)\n",
    "print('Area of the circle:',circum)\n",
    "print('circumference of the circle:',area)"
   ]
  },
  {
   "cell_type": "code",
   "execution_count": 12,
   "id": "783859a3",
   "metadata": {},
   "outputs": [
    {
     "name": "stdout",
     "output_type": "stream",
     "text": [
      "100\n",
      "5050\n"
     ]
    }
   ],
   "source": [
    "print(int('50')+50)\n",
    "print('50'+str(50))"
   ]
  },
  {
   "cell_type": "code",
   "execution_count": 16,
   "id": "8976747c",
   "metadata": {},
   "outputs": [
    {
     "data": {
      "text/plain": [
       "1000"
      ]
     },
     "execution_count": 16,
     "metadata": {},
     "output_type": "execute_result"
    }
   ],
   "source": [
    "int ('1'+'000')"
   ]
  },
  {
   "cell_type": "code",
   "execution_count": 17,
   "id": "49cfeaf4",
   "metadata": {},
   "outputs": [
    {
     "name": "stdout",
     "output_type": "stream",
     "text": [
      "100\n",
      "5050\n"
     ]
    }
   ],
   "source": [
    "print(int('50')+50)\n",
    "print ('50'+str(50))"
   ]
  },
  {
   "cell_type": "code",
   "execution_count": 18,
   "id": "0b61c510",
   "metadata": {},
   "outputs": [
    {
     "data": {
      "text/plain": [
       "int"
      ]
     },
     "execution_count": 18,
     "metadata": {},
     "output_type": "execute_result"
    }
   ],
   "source": [
    "a=3\n",
    "type (a)"
   ]
  },
  {
   "cell_type": "code",
   "execution_count": 19,
   "id": "edd9e8d4",
   "metadata": {},
   "outputs": [
    {
     "data": {
      "text/plain": [
       "float"
      ]
     },
     "execution_count": 19,
     "metadata": {},
     "output_type": "execute_result"
    }
   ],
   "source": [
    "a=1.777\n",
    "type(a)"
   ]
  },
  {
   "cell_type": "code",
   "execution_count": 2,
   "id": "480da29f",
   "metadata": {},
   "outputs": [
    {
     "data": {
      "text/plain": [
       "120"
      ]
     },
     "execution_count": 2,
     "metadata": {},
     "output_type": "execute_result"
    }
   ],
   "source": [
    "5*4*3*2*1"
   ]
  },
  {
   "cell_type": "code",
   "execution_count": 3,
   "id": "c28ef31b",
   "metadata": {},
   "outputs": [
    {
     "name": "stdout",
     "output_type": "stream",
     "text": [
      "3628800\n"
     ]
    }
   ],
   "source": [
    " print(10*9*8*7*6*5*4*3*2*1)"
   ]
  },
  {
   "cell_type": "code",
   "execution_count": 1,
   "id": "4bf91ff7",
   "metadata": {},
   "outputs": [
    {
     "name": "stdout",
     "output_type": "stream",
     "text": [
      "input number:2\n",
      "a \t n \t a**n\n",
      "2 \t 2 \t  4\n",
      "3 \t 2 \t  9\n",
      "4 \t 2 \t  16\n",
      "5 \t 2 \t  25\n",
      "6 \t 2 \t  36\n"
     ]
    }
   ],
   "source": [
    "# \n",
    "n=2 \n",
    "a=int (input('input number:'))\n",
    "\n",
    "print(\"a \\t n \\t a**n\")\n",
    "\n",
    "print(a,\"\\t\",n,\"\\t \",a**n)\n",
    "a+=1\n",
    "print(a,\"\\t\",n,\"\\t \",a**n)\n",
    "a+=1\n",
    "print(a,\"\\t\",n,\"\\t \",a**n)\n",
    "a+=1\n",
    "print(a,\"\\t\",n,\"\\t \",a**n)\n",
    "a+=1\n",
    "print(a,\"\\t\",n,\"\\t \",a**n)\n",
    "a+=1\n"
   ]
  },
  {
   "cell_type": "code",
   "execution_count": 2,
   "id": "5eb97865",
   "metadata": {},
   "outputs": [
    {
     "name": "stdout",
     "output_type": "stream",
     "text": [
      "Enter the radius :11\n",
      "circle: 69.115024\n",
      "Area: 380.13263200000006\n"
     ]
    }
   ],
   "source": [
    "PI=3.141592\n",
    "radius=float(input('Enter the radius :'))\n",
    "circle = 2.0 * radius * PI\n",
    "Area = PI * radius * radius \n",
    "\n",
    "print('circle:',circle)\n",
    "print('Area:',Area)"
   ]
  },
  {
   "cell_type": "code",
   "execution_count": 3,
   "id": "de5016f7",
   "metadata": {},
   "outputs": [
    {
     "name": "stdout",
     "output_type": "stream",
     "text": [
      "Enter the year:2024\n",
      "True\n"
     ]
    }
   ],
   "source": [
    "year = int(input(\"Enter the year:\"))\n",
    "\n",
    "leap_year = (year % 4 ==0 and year % 100 !=0) or (year %400 == 0)\n",
    "print(leap_year)\n"
   ]
  },
  {
   "cell_type": "code",
   "execution_count": 6,
   "id": "109c71f4",
   "metadata": {},
   "outputs": [
    {
     "name": "stdout",
     "output_type": "stream",
     "text": [
      "Result of 10>5 : True\n",
      "Result of 5==5 : True\n",
      "Result of 5!=5 False\n",
      "Result of 10>5 True\n"
     ]
    }
   ],
   "source": [
    "print(\"Result of 10>5 :\",10>5)\n",
    "print(\"Result of 5==5 :\",5 == 5)\n",
    "print(\"Result of 5!=5\",5!=5)\n",
    "# print(\"Result of a<b\","
   ]
  },
  {
   "cell_type": "code",
   "execution_count": 8,
   "id": "8db674a8",
   "metadata": {},
   "outputs": [
    {
     "name": "stdout",
     "output_type": "stream",
     "text": [
      "True\n",
      "True\n",
      "False\n",
      "False\n"
     ]
    }
   ],
   "source": [
    "print(bool(1))\n",
    "print(bool(-1))\n",
    "print(bool(0))\n",
    "print(bool(None))"
   ]
  },
  {
   "cell_type": "code",
   "execution_count": 15,
   "id": "0803d0bf",
   "metadata": {},
   "outputs": [
    {
     "name": "stdout",
     "output_type": "stream",
     "text": [
      "Enter The number integer:5\n",
      "is the i integer even?: True\n"
     ]
    }
   ],
   "source": [
    "n=int(input(\"Enter The number integer:\"))\n",
    "print(\"is the i integer even?:\",n % 2 == 1)\n"
   ]
  },
  {
   "cell_type": "code",
   "execution_count": 14,
   "id": "d89238be",
   "metadata": {},
   "outputs": [
    {
     "name": "stdout",
     "output_type": "stream",
     "text": [
      "Enter an IOnteger :12\n",
      "is the input an even  integer between 0 and 100? True\n"
     ]
    }
   ],
   "source": [
    "num = int (input(\"Enter an IOnteger :\"))\n",
    "result= (num>=0 and num <= 100 and num %2 ==0 )\n",
    "print(\"is the input an even  integer between 0 and 100?\",result) \n"
   ]
  },
  {
   "cell_type": "code",
   "execution_count": 23,
   "id": "e041b9cd",
   "metadata": {},
   "outputs": [
    {
     "name": "stdout",
     "output_type": "stream",
     "text": [
      "Enter number:5\n",
      "True\n"
     ]
    }
   ],
   "source": [
    "n=int(input('Enter number:'))\n",
    "result=n % 5 ==0\n",
    "print(result)"
   ]
  },
  {
   "cell_type": "code",
   "execution_count": 20,
   "id": "69cbf720",
   "metadata": {},
   "outputs": [
    {
     "name": "stdout",
     "output_type": "stream",
     "text": [
      "Enter an IOnteger :111\n",
      "False\n"
     ]
    }
   ],
   "source": [
    "num = int (input(\"Enter an IOnteger :\"))\n",
    "result= (num>=300 and num <= 399 )\n",
    "print(result)"
   ]
  },
  {
   "cell_type": "code",
   "execution_count": 2,
   "id": "4a903ebb",
   "metadata": {},
   "outputs": [
    {
     "name": "stdout",
     "output_type": "stream",
     "text": [
      "Enter  a three-digit lottery number:2 3 9\n"
     ]
    },
    {
     "ename": "ValueError",
     "evalue": "invalid literal for int() with base 10: '2 3 9'",
     "output_type": "error",
     "traceback": [
      "\u001b[1;31m---------------------------------------------------------------------------\u001b[0m",
      "\u001b[1;31mValueError\u001b[0m                                Traceback (most recent call last)",
      "Cell \u001b[1;32mIn[2], line 3\u001b[0m\n\u001b[0;32m      1\u001b[0m n1, n2, n3 \u001b[38;5;241m=\u001b[39m\u001b[38;5;241m2\u001b[39m, \u001b[38;5;241m3\u001b[39m, \u001b[38;5;241m9\u001b[39m\n\u001b[0;32m      2\u001b[0m n\u001b[38;5;241m=\u001b[39m\u001b[38;5;241m0\u001b[39m\n\u001b[1;32m----> 3\u001b[0m a,b,c \u001b[38;5;241m=\u001b[39m \u001b[38;5;28;43mint\u001b[39;49m\u001b[43m(\u001b[49m\u001b[38;5;28;43minput\u001b[39;49m\u001b[43m(\u001b[49m\u001b[38;5;124;43m'\u001b[39;49m\u001b[38;5;124;43mEnter  a three-digit lottery number:\u001b[39;49m\u001b[38;5;124;43m'\u001b[39;49m\u001b[43m)\u001b[49m\u001b[43m)\u001b[49m\u001b[38;5;241m.\u001b[39msplit()\n\u001b[0;32m      5\u001b[0m \u001b[38;5;28;01mif\u001b[39;00m a \u001b[38;5;241m==\u001b[39m n1 \u001b[38;5;129;01mor\u001b[39;00m a \u001b[38;5;241m==\u001b[39m n2 \u001b[38;5;129;01mor\u001b[39;00m  a  \u001b[38;5;241m==\u001b[39m n3:\n\u001b[0;32m      6\u001b[0m     n\u001b[38;5;241m+\u001b[39m\u001b[38;5;241m=\u001b[39m\u001b[38;5;241m1\u001b[39m\n",
      "\u001b[1;31mValueError\u001b[0m: invalid literal for int() with base 10: '2 3 9'"
     ]
    }
   ],
   "source": [
    "n1, n2, n3 =2, 3, 9\n",
    "n=0\n",
    "a,b,c = int(input('Enter  a three-digit lottery number:')).split()\n",
    "\n",
    "if a == n1 or a == n2 or  a  == n3:\n",
    "    n+=1\n",
    "if b == n1 or b == n2 or b ==n3:\n",
    "    n+=1\n",
    "if c == n1 or c == n2 or c ==n3: +-+\n",
    "    n+=1\n",
    "if n == 3 :\n",
    "    print(\"your loterry:\")"
   ]
  },
  {
   "cell_type": "code",
   "execution_count": 5,
   "id": "0f38b65b",
   "metadata": {},
   "outputs": [
    {
     "name": "stdout",
     "output_type": "stream",
     "text": [
      "Enter a three-digi loter number2 3 9\n"
     ]
    }
   ],
   "source": [
    "n1, n2, n3 = 2, 3, 9\n",
    "n=0\n",
    "a, b, c = input('Enter a three-digi loter number').split()\n",
    "a=int(a)\n",
    "b=int(b)\n",
    "c=int(c)\n",
    "\n",
    "if a== n1 or a == n2 or a == n3:\n",
    "    n+=1\n",
    "if b== n1 or b == n2 or b == n3:\n",
    "    n+1\n",
    "if c== n1 or b ==n2 or b == n3:\n",
    "    n+=1\n",
    "\n",
    "if n== 3:\n",
    "    print('Your won the loterry')"
   ]
  },
  {
   "cell_type": "code",
   "execution_count": 6,
   "id": "8949b133",
   "metadata": {},
   "outputs": [
    {
     "name": "stdout",
     "output_type": "stream",
     "text": [
      "Enter age:5\n",
      "kid \n"
     ]
    }
   ],
   "source": [
    "age=int(input(\"Enter age:\"))\n",
    "if age>= 20 :\n",
    "    print(\"Adult\")\n",
    "if age < 20  and age >=10:\n",
    "    print(\"youth\")\n",
    "if age <=10:\n",
    "    print(\"kid \")"
   ]
  },
  {
   "cell_type": "code",
   "execution_count": null,
   "id": "d8d83c5b",
   "metadata": {},
   "outputs": [],
   "source": [
    "num=int(input(\"Enter number: \"))\n",
    "if num< 0:\n",
    "    print(num,\"is negetive\")\n",
    "else:\n",
    "    print(num,\"Is not negetive\")\n",
    "    if num %2 ==0:\n",
    "        print(num,\"is an ever number\")\n",
    "    else:\n",
    "        print(num,\"Is an odd number.\")\n"
   ]
  },
  {
   "cell_type": "code",
   "execution_count": null,
   "id": "4193ad74",
   "metadata": {},
   "outputs": [],
   "source": [
    "num=int(input(\"Enter number: \"))\n",
    "if num>=0:\n",
    "    if num==0:\n",
    "        print(\"It is 0 \")\n",
    "    else:\n",
    "        print(\"it is positive\")\n",
    "else:\n",
    "    print(\"It is negative\")"
   ]
  },
  {
   "cell_type": "code",
   "execution_count": null,
   "id": "7a285cbf",
   "metadata": {},
   "outputs": [],
   "source": [
    "num1,num2=input(\"integer:\").split()\n",
    "num1=int(num1)\n",
    "num2=int(num2)\n",
    "if (num1%num2)==0:\n",
    "    print(num1,\"is a mutiple of\",num2)\n",
    "else:\n",
    "    print(num1,\"is not a mutiple \")\n",
    "    "
   ]
  },
  {
   "cell_type": "code",
   "execution_count": 1,
   "id": "6b688e6c",
   "metadata": {},
   "outputs": [
    {
     "name": "stdout",
     "output_type": "stream",
     "text": [
      "1 addition, 2 Subtraction 3 mutiplecation 4Division: 1\n",
      "Enter number1 :5\n",
      "Enter number2:5\n"
     ]
    }
   ],
   "source": [
    "calclulate=input(\"1 addition, 2 Subtraction 3 mutiplecation 4Division: \")\n",
    "\n",
    "a=input(\"Enter number1 :\")\n",
    "b=input(\"Enter number2:\")\n",
    "a=int(a)\n",
    "b=int(b)\n",
    "result=a+b\n",
    "distane=a-b\n",
    "mutiple=a*b\n",
    "division=a/b\n",
    "if calclulate == 1:\n",
    "    result\n",
    "    print(a,\"+\",b,'=',result)\n",
    "elif calclulate==2:\n",
    "      distane\n",
    "      print(a,\"-\",b,'=',distane)\n",
    "elif calclulate==3:\n",
    "      mutiple\n",
    "      print(a,\"*\",b,'=',mutiple)\n",
    "elif calclulate==4:\n",
    "   division\n",
    "   print(a,\"/\",b,'=',division)"
   ]
  },
  {
   "cell_type": "code",
   "execution_count": 2,
   "id": "2296a1ea",
   "metadata": {},
   "outputs": [
    {
     "name": "stdout",
     "output_type": "stream",
     "text": [
      "1 addition, 2 Subtraction 3 mutiplecation 4Division: 1\n",
      "Enter number1 :10\n",
      "Enter number2:10\n",
      "10 + 10 = 20\n"
     ]
    }
   ],
   "source": [
    "calclulate=int(input(\"1 addition, 2 Subtraction 3 mutiplecation 4Division: \"))\n",
    "\n",
    "a=int(input(\"Enter number1 :\"))\n",
    "b=int(input(\"Enter number2:\"))\n",
    "a=int(a)\n",
    "b=int(b)\n",
    "\n",
    "if calclulate == 1:\n",
    "    result=a+b\n",
    "    print(a,\"+\",b,'=',result)\n",
    "elif calclulate==2:\n",
    "      result = a-b\n",
    "      print(a,\"-\",b,'=',result)\n",
    "elif calclulate==3:\n",
    "      result= a*b\n",
    "      print(a,\"*\",b,'=',result)\n",
    "elif calclulate==4:\n",
    "     result = a/b\n",
    "     print(a,\"/\",b,'=',result)\n"
   ]
  },
  {
   "cell_type": "code",
   "execution_count": 1,
   "id": "1c2cc2a4",
   "metadata": {},
   "outputs": [
    {
     "name": "stdout",
     "output_type": "stream",
     "text": [
      "Posible combination of David's sandwhich shop\n",
      "Rye bread +Meatball+Lettuce+Mayonnaicse\n",
      "Rye bread +Meatball+Lettuce+honney Mustard\n",
      "Rye bread +Meatball+Lettuce+Chill\n",
      "Rye bread +Meatball+Tomato+Mayonnaicse\n",
      "Rye bread +Meatball+Tomato+honney Mustard\n",
      "Rye bread +Meatball+Tomato+Chill\n",
      "Rye bread +Meatball+Cucumber+Mayonnaicse\n",
      "Rye bread +Meatball+Cucumber+honney Mustard\n",
      "Rye bread +Meatball+Cucumber+Chill\n",
      "Rye bread +Sausage+Lettuce+Mayonnaicse\n",
      "Rye bread +Sausage+Lettuce+honney Mustard\n",
      "Rye bread +Sausage+Lettuce+Chill\n",
      "Rye bread +Sausage+Tomato+Mayonnaicse\n",
      "Rye bread +Sausage+Tomato+honney Mustard\n",
      "Rye bread +Sausage+Tomato+Chill\n",
      "Rye bread +Sausage+Cucumber+Mayonnaicse\n",
      "Rye bread +Sausage+Cucumber+honney Mustard\n",
      "Rye bread +Sausage+Cucumber+Chill\n",
      "Rye bread +Chicken breast+Lettuce+Mayonnaicse\n",
      "Rye bread +Chicken breast+Lettuce+honney Mustard\n",
      "Rye bread +Chicken breast+Lettuce+Chill\n",
      "Rye bread +Chicken breast+Tomato+Mayonnaicse\n",
      "Rye bread +Chicken breast+Tomato+honney Mustard\n",
      "Rye bread +Chicken breast+Tomato+Chill\n",
      "Rye bread +Chicken breast+Cucumber+Mayonnaicse\n",
      "Rye bread +Chicken breast+Cucumber+honney Mustard\n",
      "Rye bread +Chicken breast+Cucumber+Chill\n",
      "Wheat+Meatball+Lettuce+Mayonnaicse\n",
      "Wheat+Meatball+Lettuce+honney Mustard\n",
      "Wheat+Meatball+Lettuce+Chill\n",
      "Wheat+Meatball+Tomato+Mayonnaicse\n",
      "Wheat+Meatball+Tomato+honney Mustard\n",
      "Wheat+Meatball+Tomato+Chill\n",
      "Wheat+Meatball+Cucumber+Mayonnaicse\n",
      "Wheat+Meatball+Cucumber+honney Mustard\n",
      "Wheat+Meatball+Cucumber+Chill\n",
      "Wheat+Sausage+Lettuce+Mayonnaicse\n",
      "Wheat+Sausage+Lettuce+honney Mustard\n",
      "Wheat+Sausage+Lettuce+Chill\n",
      "Wheat+Sausage+Tomato+Mayonnaicse\n",
      "Wheat+Sausage+Tomato+honney Mustard\n",
      "Wheat+Sausage+Tomato+Chill\n",
      "Wheat+Sausage+Cucumber+Mayonnaicse\n",
      "Wheat+Sausage+Cucumber+honney Mustard\n",
      "Wheat+Sausage+Cucumber+Chill\n",
      "Wheat+Chicken breast+Lettuce+Mayonnaicse\n",
      "Wheat+Chicken breast+Lettuce+honney Mustard\n",
      "Wheat+Chicken breast+Lettuce+Chill\n",
      "Wheat+Chicken breast+Tomato+Mayonnaicse\n",
      "Wheat+Chicken breast+Tomato+honney Mustard\n",
      "Wheat+Chicken breast+Tomato+Chill\n",
      "Wheat+Chicken breast+Cucumber+Mayonnaicse\n",
      "Wheat+Chicken breast+Cucumber+honney Mustard\n",
      "Wheat+Chicken breast+Cucumber+Chill\n",
      "White+Meatball+Lettuce+Mayonnaicse\n",
      "White+Meatball+Lettuce+honney Mustard\n",
      "White+Meatball+Lettuce+Chill\n",
      "White+Meatball+Tomato+Mayonnaicse\n",
      "White+Meatball+Tomato+honney Mustard\n",
      "White+Meatball+Tomato+Chill\n",
      "White+Meatball+Cucumber+Mayonnaicse\n",
      "White+Meatball+Cucumber+honney Mustard\n",
      "White+Meatball+Cucumber+Chill\n",
      "White+Sausage+Lettuce+Mayonnaicse\n",
      "White+Sausage+Lettuce+honney Mustard\n",
      "White+Sausage+Lettuce+Chill\n",
      "White+Sausage+Tomato+Mayonnaicse\n",
      "White+Sausage+Tomato+honney Mustard\n",
      "White+Sausage+Tomato+Chill\n",
      "White+Sausage+Cucumber+Mayonnaicse\n",
      "White+Sausage+Cucumber+honney Mustard\n",
      "White+Sausage+Cucumber+Chill\n",
      "White+Chicken breast+Lettuce+Mayonnaicse\n",
      "White+Chicken breast+Lettuce+honney Mustard\n",
      "White+Chicken breast+Lettuce+Chill\n",
      "White+Chicken breast+Tomato+Mayonnaicse\n",
      "White+Chicken breast+Tomato+honney Mustard\n",
      "White+Chicken breast+Tomato+Chill\n",
      "White+Chicken breast+Cucumber+Mayonnaicse\n",
      "White+Chicken breast+Cucumber+honney Mustard\n",
      "White+Chicken breast+Cucumber+Chill\n"
     ]
    }
   ],
   "source": [
    "breads=[\"Rye bread \",\"Wheat\",\"White\"]\n",
    "Meats =[\"Meatball\",\"Sausage\",\"Chicken breast\"]\n",
    "vegis= [\"Lettuce\",\"Tomato\",\"Cucumber\"]\n",
    "sauce= ['Mayonnaicse','honney Mustard', 'Chill']\n",
    "\n",
    "\n",
    "print('Posible combination of David\\'s sandwhich shop')\n",
    "\n",
    "for b in breads:\n",
    "    for m in Meats:\n",
    "        for v in vegis:\n",
    "            for s in sauce:\n",
    "                print(b+ \"+\" +m+ '+' +v+ '+' +s)"
   ]
  },
  {
   "cell_type": "code",
   "execution_count": 1,
   "id": "1d789157",
   "metadata": {},
   "outputs": [
    {
     "name": "stdout",
     "output_type": "stream",
     "text": [
      "3 x 2 = 6\n",
      "3 x 3 = 9\n",
      "3 x 4 = 12\n",
      "3 x 5 = 15\n",
      "3 x 6 = 18\n",
      "5 x 2 = 10\n",
      "5 x 3 = 15\n",
      "5 x 4 = 20\n",
      "5 x 5 = 25\n",
      "5 x 6 = 30\n",
      "7 x 2 = 14\n",
      "7 x 3 = 21\n",
      "7 x 4 = 28\n",
      "7 x 5 = 35\n",
      "7 x 6 = 42\n"
     ]
    }
   ],
   "source": [
    "\n",
    "list1=[3,5,7]\n",
    "list2=[2,3,4,5,6]\n",
    "for i in list1:\n",
    "    for j in list2:\n",
    "        print(i,'x',j,\"=\",i*j)"
   ]
  },
  {
   "cell_type": "code",
   "execution_count": null,
   "id": "2d3d8145",
   "metadata": {},
   "outputs": [
    {
     "name": "stdout",
     "output_type": "stream",
     "text": [
      "Americano        price : 3,000 KRM\n",
      "Ice  Americano   price : 3,500 KRM\n",
      "Cappucino        price : 4,000 KRM\n",
      "Cafe latte       price : 4,500 KRM\n",
      "Epresso          price : 3,600 KRM\n"
     ]
    }
   ],
   "source": [
    "menu={'Americano':3000,'Ice  Americano':3500,'Cappucino':4000,'Cafe latte':4500,'Epresso':3600}\n",
    "for key in menu:\n",
    "    print('{:16s} price : {:,} KRM'.format(key,menu[key]))\n",
    "\n",
    "choice=input(\"select one menu from the lsit: \")\n",
    "if choice in menu.keys():\n",
    "    print('{} is {:,} KRM, Pease make a payment: '.format(choice,menu[choice]))\n",
    "else:\n",
    "    print('Sorry {} is not in the menu'.format(choice))\n",
    "    "
   ]
  },
  {
   "cell_type": "code",
   "execution_count": 1,
   "id": "4f714ab2",
   "metadata": {},
   "outputs": [
    {
     "name": "stdout",
     "output_type": "stream",
     "text": [
      "2 days had reduced sales compared to previous day.\n"
     ]
    }
   ],
   "source": [
    "sales_record = (100, 121, 120, 130, 140, 120, 123, 190,125)\n",
    "\n",
    "count = 0\n",
    "for i in range(1, len(sales_record)):\n",
    "    if sales_record[i] < sales_record[i-1]:\n",
    "        count += 1\n",
    "if count == 1:\n",
    "    print(f\"{count} day had reduced sales compared to previous day.\")\n",
    "elif count > 1:\n",
    "    print(f\"{count} days had reduced sales compared to previous day.\")\n",
    "else:\n",
    "    print(\"No days had reduced sales compared to previous day.\")"
   ]
  },
  {
   "cell_type": "code",
   "execution_count": 3,
   "id": "cca9de69",
   "metadata": {},
   "outputs": [
    {
     "name": "stdout",
     "output_type": "stream",
     "text": [
      "Alpabet counting: {'a': 2, 'b': 3, 'c': 2}\n"
     ]
    }
   ],
   "source": [
    "str1= ['a','b','c','b','a','b','c']\n",
    "dic={}\n",
    "for ch in str1: \n",
    "    if ch not in dic.keys():\n",
    "        dic[ch]=0\n",
    "    dic[ch]+=1\n",
    "print('Alpabet counting:',dic)\n"
   ]
  },
  {
   "cell_type": "code",
   "execution_count": 1,
   "id": "06c0893a",
   "metadata": {},
   "outputs": [
    {
     "name": "stdout",
     "output_type": "stream",
     "text": [
      "['z']\n"
     ]
    }
   ],
   "source": [
    "from collections import defaultdict\n",
    "# keys=['a','b','c','d']\n",
    "# x=dict.fromkeys(keys,100)\n",
    "# print(x)\n",
    "\n",
    "keys=['a','b','c','d']\n",
    "# y=dict.fromkeys(keys,100)\n",
    "y=defaultdict(int)\n",
    "y=['z']\n",
    "print(y)\n"
   ]
  },
  {
   "cell_type": "code",
   "execution_count": 3,
   "id": "426a3499",
   "metadata": {},
   "outputs": [
    {
     "name": "stdout",
     "output_type": "stream",
     "text": [
      "{'a': {'python': '5.0'}, 'b': {'pyhon': '3.6'}}\n"
     ]
    },
    {
     "data": {
      "text/plain": [
       "False"
      ]
     },
     "execution_count": 3,
     "metadata": {},
     "output_type": "execute_result"
    }
   ],
   "source": [
    "x={'a':{'python':'2.7'},'b':{'pyhon':'3.6'}}\n",
    "y=x.copy()\n",
    "y['a']['python']='5.0'\n",
    "print(x)\n",
    "y is x"
   ]
  },
  {
   "cell_type": "code",
   "execution_count": 1,
   "id": "aa6a2101",
   "metadata": {},
   "outputs": [
    {
     "name": "stdout",
     "output_type": "stream",
     "text": [
      "10\n"
     ]
    }
   ],
   "source": [
    "def get_sum(start,end):\n",
    "    s = 0\n",
    "    for i in range(start,end+1):\n",
    "        s+=1\n",
    "    return s \n",
    "\n",
    "x = get_sum(1, 10)\n",
    "print(x)\n"
   ]
  },
  {
   "cell_type": "code",
   "execution_count": null,
   "id": "1090c1eb",
   "metadata": {},
   "outputs": [],
   "source": []
  }
 ],
 "metadata": {
  "kernelspec": {
   "display_name": "Python 3 (ipykernel)",
   "language": "python",
   "name": "python3"
  },
  "language_info": {
   "codemirror_mode": {
    "name": "ipython",
    "version": 3
   },
   "file_extension": ".py",
   "mimetype": "text/x-python",
   "name": "python",
   "nbconvert_exporter": "python",
   "pygments_lexer": "ipython3",
   "version": "3.8.16"
  }
 },
 "nbformat": 4,
 "nbformat_minor": 5
}
