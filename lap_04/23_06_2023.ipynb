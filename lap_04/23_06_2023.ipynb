{
 "cells": [
  {
   "cell_type": "markdown",
   "id": "c614876c",
   "metadata": {},
   "source": [
    "# paper"
   ]
  },
  {
   "cell_type": "markdown",
   "id": "74a7eecd",
   "metadata": {},
   "source": [
    "# Q1\n"
   ]
  },
  {
   "cell_type": "code",
   "execution_count": 6,
   "id": "e10c6b88",
   "metadata": {},
   "outputs": [
    {
     "name": "stdout",
     "output_type": "stream",
     "text": [
      "Enter number:10\n",
      "10!=55 \n"
     ]
    }
   ],
   "source": [
    "\n",
    "def sum_(n):\n",
    "    if n <= 1:\n",
    "        return 1\n",
    "    else:\n",
    "        return n + sum_(n-1)\n",
    "n=int(input('Enter number:'))\n",
    "print('{}!={} '.format(n,sum_(n)))"
   ]
  },
  {
   "cell_type": "markdown",
   "id": "e7ad495f",
   "metadata": {},
   "source": [
    "# Q2"
   ]
  },
  {
   "cell_type": "code",
   "execution_count": 5,
   "id": "ed71c670",
   "metadata": {},
   "outputs": [
    {
     "name": "stdout",
     "output_type": "stream",
     "text": [
      "Enter x: 2\n",
      "Enter y: 10\n",
      "1024\n"
     ]
    }
   ],
   "source": [
    "def power_(x, y):\n",
    "    if y == 0:\n",
    "        return 1\n",
    "    elif y % 2 == 0:\n",
    "        return power_(x, y//2) * power_(x, y//2)\n",
    "    else:\n",
    "        return x * power_(x, y-1)\n",
    "x = int(input(\"Enter x: \"))\n",
    "y = int(input(\"Enter y: \"))\n",
    "print(power_(x, y))\n"
   ]
  },
  {
   "cell_type": "markdown",
   "id": "6742bc58",
   "metadata": {},
   "source": [
    "# pair"
   ]
  },
  {
   "cell_type": "markdown",
   "id": "069191ee",
   "metadata": {},
   "source": [
    "# Q1"
   ]
  },
  {
   "cell_type": "code",
   "execution_count": 9,
   "id": "9ac61659",
   "metadata": {},
   "outputs": [
    {
     "name": "stdout",
     "output_type": "stream",
     "text": [
      "eular(20) =      2.71828\n"
     ]
    }
   ],
   "source": [
    "def factorial(k):\n",
    "    if k == 0:\n",
    "        return 1\n",
    "    else:\n",
    "        return k * factorial(k-1)\n",
    "def euler(n):\n",
    "    if n == 0:\n",
    "        return 1\n",
    "    else:\n",
    "        return euler(n-1) + 1/factorial(n)\n",
    "print(\"eular(20) =    {:.5f}\".format(euler(20)))"
   ]
  },
  {
   "cell_type": "code",
   "execution_count": null,
   "id": "2d23e14e",
   "metadata": {},
   "outputs": [],
   "source": []
  }
 ],
 "metadata": {
  "kernelspec": {
   "display_name": "Python 3 (ipykernel)",
   "language": "python",
   "name": "python3"
  },
  "language_info": {
   "codemirror_mode": {
    "name": "ipython",
    "version": 3
   },
   "file_extension": ".py",
   "mimetype": "text/x-python",
   "name": "python",
   "nbconvert_exporter": "python",
   "pygments_lexer": "ipython3",
   "version": "3.8.16"
  }
 },
 "nbformat": 4,
 "nbformat_minor": 5
}
