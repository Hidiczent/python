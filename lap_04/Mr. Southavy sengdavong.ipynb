{
 "cells": [
  {
   "cell_type": "markdown",
   "id": "822c9535",
   "metadata": {},
   "source": [
    "Q-01-01"
   ]
  },
  {
   "cell_type": "code",
   "execution_count": 2,
   "id": "5f76d7c2",
   "metadata": {},
   "outputs": [
    {
     "name": "stdout",
     "output_type": "stream",
     "text": [
      "The sum of 1 to 5 15\n"
     ]
    }
   ],
   "source": [
    "print('The sum of 1 to 5',4+3+4+4)"
   ]
  },
  {
   "cell_type": "markdown",
   "id": "d005132b",
   "metadata": {},
   "source": [
    "Q.-03-01"
   ]
  },
  {
   "cell_type": "code",
   "execution_count": 4,
   "id": "65a55ebb",
   "metadata": {},
   "outputs": [
    {
     "name": "stdout",
     "output_type": "stream",
     "text": [
      "***************\n",
      "# # # # # # # # # # # # # # # \n"
     ]
    }
   ],
   "source": [
    "print('*'*15)\n",
    "print('# '*15)"
   ]
  },
  {
   "cell_type": "markdown",
   "id": "a7256bf7",
   "metadata": {},
   "source": [
    "Q 04-01"
   ]
  },
  {
   "cell_type": "code",
   "execution_count": 9,
   "id": "7ed7a502",
   "metadata": {},
   "outputs": [
    {
     "name": "stdout",
     "output_type": "stream",
     "text": [
      "southavy sengdavong\n",
      "('Laos', ' Vientiane')\n"
     ]
    }
   ],
   "source": [
    "\n",
    "name=\"southavy sengdavong\"\n",
    "address=\"Laos\",\" Vientiane\"\n",
    "print(name)\n",
    "print(address)"
   ]
  },
  {
   "cell_type": "markdown",
   "id": "39c363ad",
   "metadata": {},
   "source": [
    "Q 06-01"
   ]
  },
  {
   "cell_type": "code",
   "execution_count": 24,
   "id": "7caf9537",
   "metadata": {},
   "outputs": [
    {
     "name": "stdout",
     "output_type": "stream",
     "text": [
      "Enter two integers: 14 10\n",
      "10 14\n"
     ]
    }
   ],
   "source": [
    "num1,num2=(input(\"Enter two integers: \")).split()\n",
    "num1=int(num1)\n",
    "num2=int(num2)\n",
    "# print(num1,num2)\n",
    "if num1 < num2:\n",
    "    print(num1,num2)\n",
    "else:\n",
    "    print(num2,num1)"
   ]
  },
  {
   "cell_type": "code",
   "execution_count": 27,
   "id": "67c50a09",
   "metadata": {},
   "outputs": [
    {
     "name": "stdout",
     "output_type": "stream",
     "text": [
      "Are you an adult? :1 if you are an adult,0 if you are a minor:1\n",
      "1 if you are an adult,0 if tyou are aminor:1\n"
     ]
    }
   ],
   "source": [
    "#Q 07 -01\n",
    "adult=int(input(\"Are you an adult? :\"\"1 if you are an adult,0 if you are a minor:\"))\n",
    "# adult=int(input())\n",
    "# adult=int(input(\"Are you married?\" ))\n",
    "\n",
    "if adult==0:\n",
    "    print(\"you are a minor\")\n",
    "elif adult==1:\n",
    "    adult=input(\"1 if you are an adult,0 if tyou are aminor:\")\n",
    "else:\n",
    "    print(\"1 if you are anmarried,0 if you are a you single:\")"
   ]
  },
  {
   "cell_type": "code",
   "execution_count": null,
   "id": "62436706",
   "metadata": {},
   "outputs": [],
   "source": []
  }
 ],
 "metadata": {
  "kernelspec": {
   "display_name": "Python 3 (ipykernel)",
   "language": "python",
   "name": "python3"
  },
  "language_info": {
   "codemirror_mode": {
    "name": "ipython",
    "version": 3
   },
   "file_extension": ".py",
   "mimetype": "text/x-python",
   "name": "python",
   "nbconvert_exporter": "python",
   "pygments_lexer": "ipython3",
   "version": "3.8.16"
  }
 },
 "nbformat": 4,
 "nbformat_minor": 5
}
