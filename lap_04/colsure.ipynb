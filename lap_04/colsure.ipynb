{
 "cells": [
  {
   "cell_type": "markdown",
   "id": "f09dd89c",
   "metadata": {},
   "source": [
    "# ທ.ສູຸດທະວີ ແສງດາວົງ"
   ]
  },
  {
   "cell_type": "markdown",
   "id": "24804b92",
   "metadata": {},
   "source": [
    "# Q1"
   ]
  },
  {
   "cell_type": "code",
   "execution_count": 2,
   "id": "677e9954",
   "metadata": {},
   "outputs": [
    {
     "name": "stdout",
     "output_type": "stream",
     "text": [
      "hello\n"
     ]
    }
   ],
   "source": [
    "\n",
    "def greeting():\n",
    "    def say_hi():\n",
    "        print('hello')\n",
    "    say_hi()\n",
    "greeting()\n"
   ]
  },
  {
   "cell_type": "markdown",
   "id": "8b85b9a4",
   "metadata": {},
   "source": [
    "# Q2"
   ]
  },
  {
   "cell_type": "code",
   "execution_count": 3,
   "id": "d952bd1c",
   "metadata": {},
   "outputs": [
    {
     "name": "stdout",
     "output_type": "stream",
     "text": [
      "14\n"
     ]
    }
   ],
   "source": [
    "def calc():\n",
    "    a = 3\n",
    "    b = 5\n",
    "    def mul_add(x):\n",
    "        return a*x + b\n",
    "    return mul_add\n",
    "num = calc()\n",
    "print(num(3))"
   ]
  },
  {
   "cell_type": "markdown",
   "id": "03a4ad5f",
   "metadata": {},
   "source": [
    "# Q3"
   ]
  },
  {
   "cell_type": "code",
   "execution_count": 4,
   "id": "44bd1e51",
   "metadata": {},
   "outputs": [
    {
     "name": "stdout",
     "output_type": "stream",
     "text": [
      "14\n"
     ]
    }
   ],
   "source": [
    "def calc():\n",
    "    a = 3\n",
    "    b = 5\n",
    "    mul_add = lambda x: a*x + b\n",
    "    return mul_add\n",
    "num = calc()\n",
    "print(num(3)) # Output: 14"
   ]
  },
  {
   "cell_type": "markdown",
   "id": "0ccd71f5",
   "metadata": {},
   "source": [
    "# pair"
   ]
  },
  {
   "cell_type": "code",
   "execution_count": 6,
   "id": "9eebef16",
   "metadata": {},
   "outputs": [
    {
     "name": "stdout",
     "output_type": "stream",
     "text": [
      "[1, 2, 3, 4, 5, 6, 7, 8, 9, 10, 11, 12, 13, 14, 15, 16, 17, 18, 19, 20, 21, 22, 23, 24, 25, 26, 27, 28, 29, 30, 31, 32, 33, 34, 35, 36, 37, 38, 39, 40, 41, 42, 43, 44, 45, 46, 47, 48, 49, 50, 51, 52, 53, 54, 55, 56, 57, 58, 59, 60, 61, 62, 63, 64, 65, 66, 67, 68, 69, 70, 71, 72, 73, 74, 75, 76, 77, 78, 79, 80, 81, 82, 83, 84, 85, 86, 87, 88, 89, 90, 91, 92, 93, 94, 95, 96, 97, 98, 99, 100]\n",
      "[5, 7, 10, 14, 15, 20, 21, 25, 28, 30, 35, 40, 42, 45, 49, 50, 55, 56, 60, 63, 65, 70, 75, 77, 80, 84, 85, 90, 91, 95, 98, 100]\n"
     ]
    }
   ],
   "source": [
    "lst= [ x for x in range(1,101)]\n",
    "def func1(a):\n",
    "    def func2():\n",
    "        result1 = []\n",
    "        for i in a:\n",
    "            if i % 5 == 0:\n",
    "                result1.append(i)\n",
    "        return result1\n",
    "    def func3():\n",
    "        result2 =[]\n",
    "        for i in a: \n",
    "            if i % 7 == 0:\n",
    "                result2.append(i)\n",
    "        return result2\n",
    "    lst = sorted(set(func2()+func3()))\n",
    "    return lst\n",
    "print(lst)\n",
    "print(func1(lst))"
   ]
  },
  {
   "cell_type": "code",
   "execution_count": null,
   "id": "a80f463f",
   "metadata": {},
   "outputs": [],
   "source": []
  }
 ],
 "metadata": {
  "kernelspec": {
   "display_name": "Python 3 (ipykernel)",
   "language": "python",
   "name": "python3"
  },
  "language_info": {
   "codemirror_mode": {
    "name": "ipython",
    "version": 3
   },
   "file_extension": ".py",
   "mimetype": "text/x-python",
   "name": "python",
   "nbconvert_exporter": "python",
   "pygments_lexer": "ipython3",
   "version": "3.8.16"
  }
 },
 "nbformat": 4,
 "nbformat_minor": 5
}
