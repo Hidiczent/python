{
 "cells": [
  {
   "cell_type": "markdown",
   "id": "db2e1cd1",
   "metadata": {},
   "source": [
    "\n"
   ]
  },
  {
   "cell_type": "markdown",
   "id": "82e13852",
   "metadata": {},
   "source": [
    "# Q1\n"
   ]
  },
  {
   "cell_type": "code",
   "execution_count": 1,
   "id": "6f85a2c0",
   "metadata": {},
   "outputs": [
    {
     "name": "stdout",
     "output_type": "stream",
     "text": [
      "Welcome.\n",
      "Welcome.\n"
     ]
    }
   ],
   "source": [
    "def welcome():\n",
    "    print('Welcome.')\n",
    "welcome()\n",
    "welcome()\n"
   ]
  },
  {
   "cell_type": "markdown",
   "id": "c743c312",
   "metadata": {},
   "source": [
    "# Q2"
   ]
  },
  {
   "cell_type": "code",
   "execution_count": 2,
   "id": "4303cd8f",
   "metadata": {},
   "outputs": [
    {
     "name": "stdout",
     "output_type": "stream",
     "text": [
      "The greater of 100 or 200 is: 200\n",
      "The smaller of 100 or 200 is 100\n"
     ]
    }
   ],
   "source": [
    "def max(m,n):\n",
    "    if m>n:\n",
    "        \n",
    "        return  m\n",
    "    else:\n",
    "        return n\n",
    "def min(m,n):\n",
    "    if m<n:\n",
    "        return m\n",
    "    else:\n",
    "        return n\n",
    "print('The greater of 100 or 200, is:',max(100,200))\n",
    "print('The smaller of 100 or 200 is',min(100,200))"
   ]
  },
  {
   "cell_type": "markdown",
   "id": "9edb0b24",
   "metadata": {},
   "source": [
    "# Q3"
   ]
  },
  {
   "cell_type": "code",
   "execution_count": 3,
   "id": "8c0bbfc2",
   "metadata": {},
   "outputs": [
    {
     "name": "stdout",
     "output_type": "stream",
     "text": [
      "1 mile = 1.61 kilometers\n",
      "2 mile = 3.22 kilometers\n",
      "3 mile = 4.83 kilometers\n",
      "4 mile = 6.44 kilometers\n",
      "5 mile = 8.05 kilometers\n"
     ]
    }
   ],
   "source": [
    "def mile_to(miles):\n",
    "    kilometers = miles * 1.60934\n",
    "    return kilometers\n",
    "for miles in range(1, 6):\n",
    "    kilometers = mile_to(miles)\n",
    "    print(f\"{miles} mile = {kilometers:.2f} kilometers\")"
   ]
  },
  {
   "cell_type": "markdown",
   "id": "9b03b150",
   "metadata": {},
   "source": [
    "# Q4"
   ]
  },
  {
   "cell_type": "code",
   "execution_count": 4,
   "id": "cb324247",
   "metadata": {},
   "outputs": [
    {
     "name": "stdout",
     "output_type": "stream",
     "text": [
      "10 degrees Celsius = 50.0 degrees Fahrenheit\n",
      "20 degrees Celsius = 68.0 degrees Fahrenheit\n",
      "30 degrees Celsius = 86.0 degrees Fahrenheit\n",
      "40 degrees Celsius = 104.0 degrees Fahrenheit\n",
      "50 degrees Celsius = 122.0 degrees Fahrenheit\n"
     ]
    }
   ],
   "source": [
    "def celsius_to_fahrenheit(celsius):\n",
    "    fahrenheit = (celsius * 9/5) + 32\n",
    "    return fahrenheit\n",
    "for celsius in range(10, 51, 10):\n",
    "    fahrenheit = celsius_to_fahrenheit(celsius)\n",
    "    print(f\"{celsius} degrees Celsius = {fahrenheit} degrees Fahrenheit\")\n"
   ]
  },
  {
   "cell_type": "markdown",
   "id": "376d3b4e",
   "metadata": {},
   "source": [
    "# pair"
   ]
  },
  {
   "cell_type": "code",
   "execution_count": 3,
   "id": "36e2f26b",
   "metadata": {},
   "outputs": [
    {
     "name": "stdout",
     "output_type": "stream",
     "text": [
      "Enter three number 9 2 6\n",
      "The average value of 9 2 6 is 5.666666666666667\n",
      "The maximum value of 9 2 6 is 9\n",
      "The minimum value of 9 2 6 is 2\n"
     ]
    }
   ],
   "source": [
    "def mean3(a,b,c):\n",
    "    avg=(a+b+c)/3\n",
    "    return avg\n",
    "def max3(a,b,c):\n",
    "    if a>b and a>c:\n",
    "        return a\n",
    "    elif b>a and b>c:\n",
    "        return b\n",
    "    else:\n",
    "        return c\n",
    "def min3(a,b,c):\n",
    "    if a<b and a<c:\n",
    "        return a\n",
    "    elif b<a and b<c:\n",
    "        return b\n",
    "    else:\n",
    "        return c\n",
    "a,b,c=(input('Enter three number ')).split()\n",
    "a=int(a)\n",
    "b=int(b)\n",
    "c=int(c)\n",
    "print('The average value of', a, b, c, 'is' ,mean3(a,b,c))\n",
    "print('The maximum value of', a, b, c, 'is' ,max3(a,b,c))\n",
    "print('The minimum value of', a, b, c, 'is' ,min3(a,b,c))"
   ]
  },
  {
   "cell_type": "code",
   "execution_count": null,
   "id": "f8488458",
   "metadata": {},
   "outputs": [],
   "source": []
  }
 ],
 "metadata": {
  "kernelspec": {
   "display_name": "Python 3 (ipykernel)",
   "language": "python",
   "name": "python3"
  },
  "language_info": {
   "codemirror_mode": {
    "name": "ipython",
    "version": 3
   },
   "file_extension": ".py",
   "mimetype": "text/x-python",
   "name": "python",
   "nbconvert_exporter": "python",
   "pygments_lexer": "ipython3",
   "version": "3.8.16"
  }
 },
 "nbformat": 4,
 "nbformat_minor": 5
}
