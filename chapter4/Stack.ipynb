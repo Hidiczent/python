{
 "cells": [
  {
   "cell_type": "code",
   "execution_count": 1,
   "id": "6f4dc3ff",
   "metadata": {},
   "outputs": [],
   "source": [
    "stack=[]\n",
    "\n",
    "def push(stack,item):\n",
    "    stack.append(item)\n",
    "\n",
    "\n",
    "def pop(stack):\n",
    "    return  stack.pop()\n"
   ]
  },
  {
   "cell_type": "code",
   "execution_count": 1,
   "id": "bc7a7c33",
   "metadata": {},
   "outputs": [
    {
     "name": "stdout",
     "output_type": "stream",
     "text": [
      "[]\n",
      "['A']\n",
      "['A', 'B']\n",
      "['A']\n",
      "['A', 'C']\n",
      "['A']\n",
      "[]\n"
     ]
    }
   ],
   "source": [
    "stack = []\n",
    "def push(stack,item):\n",
    "    stack.append(item)\n",
    "def pop(stack):\n",
    "    stack.pop()\n",
    "stack= [] \n",
    "print(stack) \n",
    "push(stack, \"A\") \n",
    "print(stack) \n",
    "push(stack, \"B\") \n",
    "print(stack) \n",
    "pop(stack) \n",
    "print(stack) \n",
    "push(stack, \"C\") \n",
    "print(stack) \n",
    "pop(stack) \n",
    "print(stack) \n",
    "pop(stack) \n",
    "print(stack)"
   ]
  },
  {
   "cell_type": "code",
   "execution_count": 1,
   "id": "e021a111",
   "metadata": {},
   "outputs": [
    {
     "name": "stdout",
     "output_type": "stream",
     "text": [
      "Valid\n"
     ]
    }
   ],
   "source": [
    "def check(expr):\n",
    "    opening=\"[{(\"\n",
    "    closing=\"]})\"\n",
    "    stack=[]\n",
    "    for char in expr:\n",
    "        if char in opening:\n",
    "            stack.append(char)\n",
    "        elif char in closing:\n",
    "            if len(stack)==0:\n",
    "                return False\n",
    "            if opening.index(stack.pop())!=closing.index(char):\n",
    "                    return False\n",
    "    return len(stack)==0\n",
    "\n",
    "str=input(\"Input a string of parentheses: \")\n",
    "print(\"Valid\" if check(str) else \"Invalid\")"
   ]
  },
  {
   "cell_type": "code",
   "execution_count": 1,
   "id": "db0abf73",
   "metadata": {},
   "outputs": [
    {
     "name": "stdout",
     "output_type": "stream",
     "text": [
      "B\n",
      "C\n",
      "A\n",
      "None\n"
     ]
    }
   ],
   "source": [
    "class Stack:\n",
    "    def __init__(self):\n",
    "        self.stack=[]\n",
    "\n",
    "    def is_Empty(self):\n",
    "        return True if len(self.stack)==0 else False\n",
    "\n",
    "    def push(self, item):\n",
    "        self.stack.append(item)\n",
    "\n",
    "    def pop(self):\n",
    "        return None if self.is_Empty() else self.stack.pop()\n",
    "\n",
    "stack=Stack()\n",
    "stack.push(\"A\")\n",
    "stack.push(\"B\")\n",
    "print(stack.pop())\n",
    "stack.push(\"C\")\n",
    "print(stack.pop())\n",
    "print(stack.pop())\n",
    "print(stack.pop())"
   ]
  },
  {
   "cell_type": "markdown",
   "id": "79e7a278",
   "metadata": {},
   "source": [
    "#ຄ່າທີ່ຮັບມາທັ້ງໝົດມັນຈະເບິ່ງເຫນເປັນ String"
   ]
  },
  {
   "cell_type": "code",
   "execution_count": 1,
   "id": "b80ea9f9",
   "metadata": {},
   "outputs": [
    {
     "name": "stdout",
     "output_type": "stream",
     "text": [
      "Initial stack\n",
      "[10, 20, 30, 40]\n",
      "\n",
      "Elements popped from stack:\n",
      "40\n",
      "30\n",
      "20\n",
      "10\n",
      "\n",
      "Stack after elements are popped:\n",
      "[]\n"
     ]
    }
   ],
   "source": [
    "# -*- coding: utf-8 -*-\n",
    "\"\"\"\n",
    "Created on Mon Mar 14 07:11:52 2022\n",
    "@author: Bouasoth Xayachak\n",
    "\"\"\"\n",
    "\n",
    "# Python program to demonstrate stack implementation using list\n",
    "stackl = []\n",
    " \n",
    "# append() function to push element in the stack\n",
    "stackl.append(10)\n",
    "stackl.append(20)\n",
    "stackl.append(30)\n",
    "stackl.append(40)\n",
    " \n",
    "print('Initial stack')\n",
    "print(stackl)\n",
    " \n",
    "# pop() function to pop element from stack in LIFO order\n",
    "print('\\nElements popped from stack:')\n",
    "print(stackl.pop())\n",
    "print(stackl.pop())\n",
    "print(stackl.pop())\n",
    "print(stackl.pop())\n",
    "# print(stackl.pop())\n",
    " \n",
    "print('\\nStack after elements are popped:')\n",
    "print(stackl)"
   ]
  },
  {
   "cell_type": "code",
   "execution_count": null,
   "id": "bff4d98c",
   "metadata": {},
   "outputs": [
    {
     "name": "stdout",
     "output_type": "stream",
     "text": [
      "\n",
      "\n",
      "========================\n",
      "Manage Stack Program\n",
      "1. Push data\n",
      "2. Pop data\n",
      "3. Display the value of stack\n",
      "4. Exit the program\n",
      "========================\n",
      "Enter the choice:3\n",
      "Stack = []\n",
      "\n",
      "\n",
      "========================\n",
      "Manage Stack Program\n",
      "1. Push data\n",
      "2. Pop data\n",
      "3. Display the value of stack\n",
      "4. Exit the program\n",
      "========================\n",
      "Enter the choice:1\n",
      "Enter the data:10\n",
      "\n",
      "\n",
      "========================\n",
      "Manage Stack Program\n",
      "1. Push data\n",
      "2. Pop data\n",
      "3. Display the value of stack\n",
      "4. Exit the program\n",
      "========================\n",
      "Enter the choice:1\n",
      "Enter the data:10\n",
      "\n",
      "\n",
      "========================\n",
      "Manage Stack Program\n",
      "1. Push data\n",
      "2. Pop data\n",
      "3. Display the value of stack\n",
      "4. Exit the program\n",
      "========================\n",
      "Enter the choice:3\n",
      "Stack = [10, 10]\n",
      "\n",
      "\n",
      "========================\n",
      "Manage Stack Program\n",
      "1. Push data\n",
      "2. Pop data\n",
      "3. Display the value of stack\n",
      "4. Exit the program\n",
      "========================\n"
     ]
    }
   ],
   "source": [
    "# -*- coding: utf-8 -*-\n",
    "\"\"\"\n",
    "Created on Mon Mar 14 07:11:52 2022\n",
    "@author: Bouasoth Xayachak\n",
    "\"\"\"\n",
    "import time\n",
    "\n",
    "#create a stack List\n",
    "stackl = []\n",
    "    \n",
    "while True:\n",
    "    print(\"\\n\")\n",
    "    print(\"========================\")\n",
    "    print(\"Manage Stack Program\")\n",
    "    print(\"1. Push data\")\n",
    "    print(\"2. Pop data\")\n",
    "    print(\"3. Display the value of stack\")\n",
    "    print(\"4. Exit the program\")\n",
    "    print(\"========================\")\n",
    "    c = int(input(\"Enter the choice:\"))\n",
    "    if c in (1, 2, 3, 4):\n",
    "    \n",
    "        #first check whether user want to exit\n",
    "        if (c == 4):\n",
    "            break\n",
    "                \n",
    "        # Singly Linked List with insertion, finding and print methods\n",
    "        if (c==1):\n",
    "            d = int(input(\"Enter the data:\"))\n",
    "            stackl.append(d)\n",
    "        elif (c==2):\n",
    "            print(\"Pop element is\",stackl.pop())\n",
    "            time.sleep(3)\n",
    "        elif (c==3):\n",
    "            print(\"Stack =\",stackl)\n",
    "            time.sleep(3)\n",
    "    else:\n",
    "        print(\"Invalid Choice, please try again\")\n",
    "        time.sleep(3)\n",
    "\n",
    "#    if _name_ == '__main__':\n",
    "#        main()"
   ]
  },
  {
   "cell_type": "code",
   "execution_count": null,
   "id": "8426afcb",
   "metadata": {},
   "outputs": [],
   "source": []
  },
  {
   "cell_type": "code",
   "execution_count": 5,
   "id": "5c8da204",
   "metadata": {},
   "outputs": [
    {
     "name": "stdout",
     "output_type": "stream",
     "text": [
      "Initial stack\n",
      "[10, 20, 30, 40]\n",
      "\n",
      "Elements popped from stack:\n",
      "40\n",
      "30\n",
      "20\n",
      "10\n",
      "\n",
      "Stack after elements are popped:\n",
      "[]\n"
     ]
    }
   ],
   "source": [
    "# -*- coding: utf-8 -*-\n",
    "\"\"\"\n",
    "Created on Mon Mar 14 07:11:52 2022\n",
    "@author: Bouasoth Xayachak\n",
    "\"\"\"\n",
    "\n",
    "# Python program to demonstrate stack implementation using list\n",
    "stackl = []\n",
    " \n",
    "# append() function to push element in the stack\n",
    "stackl.append(10)\n",
    "stackl.append(20)\n",
    "stackl.append(30)\n",
    "stackl.append(40)\n",
    " \n",
    "print('Initial stack')\n",
    "print(stackl)\n",
    " \n",
    "# pop() function to pop element from stack in LIFO order\n",
    "print('\\nElements popped from stack:')\n",
    "print(stackl.pop())\n",
    "print(stackl.pop())\n",
    "print(stackl.pop())\n",
    "print(stackl.pop())\n",
    "# print(stackl.pop())\n",
    " \n",
    "print('\\nStack after elements are popped:')\n",
    "print(stackl)"
   ]
  },
  {
   "cell_type": "code",
   "execution_count": null,
   "id": "86d329d8",
   "metadata": {},
   "outputs": [],
   "source": []
  }
 ],
 "metadata": {
  "kernelspec": {
   "display_name": "Python 3 (ipykernel)",
   "language": "python",
   "name": "python3"
  },
  "language_info": {
   "codemirror_mode": {
    "name": "ipython",
    "version": 3
   },
   "file_extension": ".py",
   "mimetype": "text/x-python",
   "name": "python",
   "nbconvert_exporter": "python",
   "pygments_lexer": "ipython3",
   "version": "3.8.16"
  }
 },
 "nbformat": 4,
 "nbformat_minor": 5
}
